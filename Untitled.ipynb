{
 "cells": [
  {
   "cell_type": "markdown",
   "metadata": {},
   "source": [
    "## Warning this code will not run as is\n",
    "\n",
    "### This file has been used with google colab in order to save weights, in order to run this notebook locally you must download the dataset and change the path variable to the path for your download"
   ]
  },
  {
   "cell_type": "code",
   "execution_count": null,
   "metadata": {},
   "outputs": [],
   "source": [
    "import numpy as np\n",
    "import keras\n",
    "from glob import glob\n",
    "import pandas as pd\n",
    "import cv2\n",
    "import os\n",
    "import matplotlib.pyplot as plt\n",
    "import keras\n",
    "from keras.models import Sequential\n",
    "from keras.layers.core import Dense, Dropout, Activation, Flatten\n",
    "from keras.layers import Conv2D, MaxPooling2D\n",
    "import sklearn\n",
    "from sklearn.preprocessing import LabelEncoder\n",
    "\n",
    "from keras.utils import to_categorical\n",
    "from google.colab import drive\n",
    "drive.mount('/content/drive')\n",
    "\n",
    "img_size = 64"
   ]
  },
  {
   "cell_type": "code",
   "execution_count": null,
   "metadata": {},
   "outputs": [],
   "source": [
    "\n",
    "#print(os.listdir('C:/Users/Owner/4thYear/MainProject/ImageRecNN/input/fruits-360'))\n",
    "path = '/content/drive/My Drive/Training/*'\n",
    "\n",
    "\n",
    "training_fruit_img = []\n",
    "training_label = []\n",
    "for i in glob(path):\n",
    "    img_label = i.split(\"/\")[-1]\n",
    "    for img_path in glob(os.path.join(i, \"*.jpg\")):\n",
    "        img = cv2.imread(img_path)\n",
    "        img = cv2.resize(img, (img_size, img_size))\n",
    "        img = cv2.cvtColor(img, cv2.COLOR_BGR2RGB)\n",
    "        training_fruit_img.append(img)\n",
    "        training_label.append(img_label)\n",
    "training_fruit_img = np.array(training_fruit_img).astype('float32')\n",
    "training_fruit_img /= 255.0\n",
    "training_label = np.array(training_label)\n",
    "len(np.unique(training_label))\n",
    "\n",
    "\n",
    "\n"
   ]
  },
  {
   "cell_type": "code",
   "execution_count": null,
   "metadata": {},
   "outputs": [],
   "source": [
    "\n",
    "label_to_id = {v : k for k, v in enumerate(np.unique(training_label))}\n",
    "id_to_label = {v : k for k, v in label_to_id.items()}\n",
    "\n",
    "\n",
    "training_label_id = np.array([label_to_id[i] for i in training_label])\n",
    "\n",
    "training_label_id"
   ]
  },
  {
   "cell_type": "code",
   "execution_count": null,
   "metadata": {},
   "outputs": [],
   "source": [
    "\n",
    "model = keras.Sequential()\n",
    "model.add(Conv2D(16, (3, 3), input_shape = (img_size, img_size, 3), padding = \"same\", activation = \"relu\"))\n",
    "model.add(MaxPooling2D(pool_size = (2, 2)))\n",
    "\n",
    "model.add(Conv2D(32, (3, 3), padding = \"same\", activation = \"relu\"))\n",
    "model.add(MaxPooling2D(pool_size = (2, 2)))\n",
    "\n",
    "model.add(Conv2D(64, (3, 3), padding = \"same\", activation = \"relu\"))\n",
    "model.add(MaxPooling2D(pool_size = (2, 2)))\n",
    "\n",
    "model.add(Conv2D(128, (3, 3), padding = \"same\", activation = \"relu\"))\n",
    "model.add(MaxPooling2D(pool_size = (2, 2)))\n",
    "\n",
    "\n",
    "model.add(Dropout(0.2))\n",
    "\n",
    "model.add(Flatten())\n",
    "model.add(Dense(256, activation = \"relu\"))\n",
    "model.add(Dense(20, activation = \"softmax\"))\n",
    "\n",
    "model.compile(loss = \"sparse_categorical_crossentropy\", optimizer = 'adam', metrics = ['accuracy'])\n",
    "\n",
    "\n",
    "\n",
    "model.fit(training_fruit_img, training_label_id, batch_size = 128, epochs = 10, verbose=1)\n",
    "\n",
    "# create on Colab directory\n",
    "model.save('model.h5')    \n",
    "model_file = drive.CreateFile({'title' : 'model.h5'})\n",
    "model_file.SetContentFile('model.h5')\n",
    "model_file.Upload()\n",
    "\n",
    "drive.CreateFile({'id': model_file.get('id')})\n",
    "   \n",
    "        #save the weights \n",
    "model.save_weights('model_weights.h5')\n",
    "weights_file = drive.CreateFile({'title' : 'model_weights.h5'})\n",
    "weights_file.SetContentFile('model_weights.h5')\n",
    "weights_file.Upload()\n",
    "drive.CreateFile({'id': weights_file.get('id')})"
   ]
  },
  {
   "cell_type": "code",
   "execution_count": null,
   "metadata": {},
   "outputs": [],
   "source": []
  },
  {
   "cell_type": "code",
   "execution_count": null,
   "metadata": {},
   "outputs": [],
   "source": []
  }
 ],
 "metadata": {
  "kernelspec": {
   "display_name": "Python 3",
   "language": "python",
   "name": "python3"
  },
  "language_info": {
   "codemirror_mode": {
    "name": "ipython",
    "version": 3
   },
   "file_extension": ".py",
   "mimetype": "text/x-python",
   "name": "python",
   "nbconvert_exporter": "python",
   "pygments_lexer": "ipython3",
   "version": "3.7.1"
  }
 },
 "nbformat": 4,
 "nbformat_minor": 2
}
